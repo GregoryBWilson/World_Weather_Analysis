{
 "cells": [
  {
   "cell_type": "code",
   "execution_count": 2,
   "id": "380f1dbc",
   "metadata": {},
   "outputs": [],
   "source": [
    "# Import the random module.\n",
    "import random"
   ]
  },
  {
   "cell_type": "code",
   "execution_count": 3,
   "id": "ac1a4460",
   "metadata": {},
   "outputs": [
    {
     "data": {
      "text/plain": [
       "-26"
      ]
     },
     "execution_count": 3,
     "metadata": {},
     "output_type": "execute_result"
    }
   ],
   "source": [
    "random.randint(-90,90)"
   ]
  },
  {
   "cell_type": "code",
   "execution_count": 4,
   "id": "b783bea3",
   "metadata": {},
   "outputs": [
    {
     "data": {
      "text/plain": [
       "0.49717652959968717"
      ]
     },
     "execution_count": 4,
     "metadata": {},
     "output_type": "execute_result"
    }
   ],
   "source": [
    "random.random()"
   ]
  },
  {
   "cell_type": "code",
   "execution_count": 6,
   "id": "07f4ea94",
   "metadata": {},
   "outputs": [
    {
     "data": {
      "text/plain": [
       "[-26.581918918675335,\n",
       " 2.085168340835068,\n",
       " -13.167378416303148,\n",
       " -2.6730758526583753,\n",
       " 9.152216604032274,\n",
       " -43.82051519598096,\n",
       " -41.45468050835149,\n",
       " -45.301281391915786,\n",
       " 41.75836832554314,\n",
       " -14.121711500950996]"
      ]
     },
     "execution_count": 6,
     "metadata": {},
     "output_type": "execute_result"
    }
   ],
   "source": [
    "x = 1\n",
    "latitudes = []\n",
    "while x < 11:\n",
    "    random_lat = random.randint(-90, 89) + random.random()\n",
    "    latitudes.append(random_lat)\n",
    "    x += 1\n",
    "latitudes"
   ]
  },
  {
   "cell_type": "code",
   "execution_count": 7,
   "id": "ed05146a",
   "metadata": {},
   "outputs": [
    {
     "data": {
      "text/plain": [
       "-24"
      ]
     },
     "execution_count": 7,
     "metadata": {},
     "output_type": "execute_result"
    }
   ],
   "source": [
    "random.randrange(-90, 90, step=3)"
   ]
  },
  {
   "cell_type": "code",
   "execution_count": 8,
   "id": "5fcc623a",
   "metadata": {},
   "outputs": [],
   "source": [
    "# Import the NumPy module.\n",
    "import numpy as np"
   ]
  },
  {
   "cell_type": "code",
   "execution_count": 9,
   "id": "2f2c9869",
   "metadata": {},
   "outputs": [
    {
     "data": {
      "text/plain": [
       "33.87291499234337"
      ]
     },
     "execution_count": 9,
     "metadata": {},
     "output_type": "execute_result"
    }
   ],
   "source": [
    "np.random.uniform(-90.000, 90.000)"
   ]
  },
  {
   "cell_type": "code",
   "execution_count": 11,
   "id": "bc131509",
   "metadata": {},
   "outputs": [
    {
     "data": {
      "text/plain": [
       "array([ 39.82382107,  -6.21617285,  57.50173928,  68.33618368,\n",
       "       -19.1365904 , -29.98353991,  15.01797943,   5.12530895,\n",
       "        11.46837236, -36.84268656,  -8.97901919, -36.85208485,\n",
       "       -73.53044252,  33.27544214, -27.47488838,  20.04868893,\n",
       "       -45.18054437, -41.61426084, -17.98725996,  87.48399962,\n",
       "       -76.17840417, -42.7121086 ,  15.48507748,  59.94421009,\n",
       "       -61.72037474,  20.50925736,  34.72964812, -72.97367425,\n",
       "        -6.5360185 ,  42.79127713, -35.01015851,  77.23535163,\n",
       "       -67.71581285,  -8.26219396, -32.2567323 , -37.13330672,\n",
       "        52.29917185,  75.36928556,   7.59081218,  46.90048676,\n",
       "       -49.55384249, -43.22327645, -68.12175436,  61.43725932,\n",
       "        84.59614635,  64.16115529, -10.47644846,  84.06987699,\n",
       "        47.48963713, -46.89531323])"
      ]
     },
     "execution_count": 11,
     "metadata": {},
     "output_type": "execute_result"
    }
   ],
   "source": [
    "np.random.uniform(-90.000, 90.000, size=50)"
   ]
  },
  {
   "cell_type": "code",
   "execution_count": 12,
   "id": "b2e7e3c3",
   "metadata": {},
   "outputs": [],
   "source": [
    "# Import timeit.\n",
    "import timeit"
   ]
  },
  {
   "cell_type": "code",
   "execution_count": 13,
   "id": "f36907ee",
   "metadata": {},
   "outputs": [
    {
     "name": "stdout",
     "output_type": "stream",
     "text": [
      "18.6 µs ± 434 ns per loop (mean ± std. dev. of 7 runs, 10000 loops each)\n"
     ]
    }
   ],
   "source": [
    "%timeit np.random.uniform(-90.000, 90.000, size=1500)"
   ]
  },
  {
   "cell_type": "code",
   "execution_count": 14,
   "id": "d0eef0c6",
   "metadata": {},
   "outputs": [
    {
     "name": "stdout",
     "output_type": "stream",
     "text": [
      "2.62 ms ± 122 µs per loop (mean ± std. dev. of 7 runs, 100 loops each)\n"
     ]
    }
   ],
   "source": [
    "def latitudes(size):\n",
    "    latitudes = []\n",
    "    x = 0\n",
    "    while x < (size):\n",
    "        random_lat = random.randint(-90, 90) + random.random()\n",
    "        latitudes.append(random_lat)\n",
    "        x += 1\n",
    "    return latitudes\n",
    "# Call the function with 1500.\n",
    "%timeit latitudes(1500)"
   ]
  },
  {
   "cell_type": "code",
   "execution_count": null,
   "id": "96245ed6",
   "metadata": {},
   "outputs": [],
   "source": []
  }
 ],
 "metadata": {
  "kernelspec": {
   "display_name": "PythonData",
   "language": "python",
   "name": "pythondata"
  },
  "language_info": {
   "codemirror_mode": {
    "name": "ipython",
    "version": 3
   },
   "file_extension": ".py",
   "mimetype": "text/x-python",
   "name": "python",
   "nbconvert_exporter": "python",
   "pygments_lexer": "ipython3",
   "version": "3.7.11"
  }
 },
 "nbformat": 4,
 "nbformat_minor": 5
}
